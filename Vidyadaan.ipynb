{
 "cells": [
  {
   "cell_type": "code",
   "execution_count": 1,
   "id": "367d93c4",
   "metadata": {},
   "outputs": [],
   "source": [
    "from selenium.webdriver import Chrome\n",
    "from selenium.webdriver.common.by import By\n",
    "from selenium.webdriver.chrome.service import Service\n",
    "import time\n",
    "import pandas as pd\n",
    "from sqlalchemy import create_engine\n",
    "import psycopg2"
   ]
  },
  {
   "cell_type": "code",
   "execution_count": 2,
   "id": "229c2090",
   "metadata": {},
   "outputs": [],
   "source": [
    "driverpath=\"C:/Users/mohit.chaniyal/Documents/chromedriver.exe\"\n",
    "url=\"https://vidhyadaan.com/ManageSchool.aspx\""
   ]
  },
  {
   "cell_type": "code",
   "execution_count": 3,
   "id": "58c349bc",
   "metadata": {},
   "outputs": [],
   "source": [
    "browser=Chrome(service=Service(driverpath))\n",
    "browser.get(url)"
   ]
  },
  {
   "cell_type": "code",
   "execution_count": null,
   "id": "eb07a3cc",
   "metadata": {},
   "outputs": [],
   "source": [
    "data=[]\n",
    "rof=1\n",
    "while True:\n",
    "    table=browser.find_element(By.XPATH,\"//table[@id='ctl00_ContentPlaceHolder1_AddU_grddept']/tbody\")\n",
    "    table_rows = table.find_elements(By.TAG_NAME, \"tr\")\n",
    "    for i in range(1,101):\n",
    "        table=browser.find_element(By.XPATH,\"//table[@id='ctl00_ContentPlaceHolder1_AddU_grddept']/tbody\")\n",
    "        table_rows = table.find_elements(By.TAG_NAME, \"tr\")\n",
    "        tds=table_rows[i].find_elements(By.TAG_NAME, \"td\")\n",
    "        s_no,school_name,school_address,district,block,school_timing,action=[x.text for x in tds ]\n",
    "        f_li=[s_no,school_name,school_address,district,block,school_timing]\n",
    "        tds[-1].find_element(By.TAG_NAME,\"input\").click()\n",
    "        card_row=browser.find_element(By.XPATH,\"//div[@class='card-body']//div[@class='row']\")\n",
    "        f_li.extend([x.text for x in card_row.find_elements(By.XPATH,\"//div[@class='col-sm-4']\")][0:-3])\n",
    "        print(f_li[0],end=\" \")\n",
    "        browser.back()\n",
    "        data.append(f_li)\n",
    "    table=browser.find_element(By.XPATH,\"//table[@id='ctl00_ContentPlaceHolder1_AddU_grddept']/tbody\")\n",
    "    table_rows = table.find_elements(By.TAG_NAME, \"tr\")\n",
    "    table_rows[-1].find_elements(By.TAG_NAME,\"td\")[rof].click()\n",
    "    if rof==11:\n",
    "        rof=1\n",
    "    else:\n",
    "        rof+=1"
   ]
  },
  {
   "cell_type": "code",
   "execution_count": 21,
   "id": "1494974a",
   "metadata": {},
   "outputs": [],
   "source": [
    "actual_columns=['S.No.','School Name','School Address','District','Block','School Timing','DEO Name:', 'DEO contact No:',\n",
    "                'DEO Email Address:', 'BRC Name:', 'BRC Contact No:', 'BRC Email Address:', 'Principal Name:', \n",
    "                'Principal Contact No:', 'Principal Email Address:', 'Type Of School:', 'School Start Time:', \n",
    "                'School End Time:']"
   ]
  },
  {
   "cell_type": "code",
   "execution_count": 52,
   "id": "2b673633",
   "metadata": {},
   "outputs": [],
   "source": [
    "df=pd.DataFrame(data,columns=actual_columns)"
   ]
  },
  {
   "cell_type": "code",
   "execution_count": 124,
   "id": "769c1922",
   "metadata": {},
   "outputs": [],
   "source": [
    "df.to_excel(\"Vidyadaan.xlsx\",index=False)"
   ]
  },
  {
   "cell_type": "code",
   "execution_count": null,
   "id": "ac82806e",
   "metadata": {},
   "outputs": [],
   "source": [
    "engine=create_engine(\"postgresql://[username]:[password]@[db_ip]:[db_port]/[db]\")\n",
    "df.to_sql('vidhyadaan',engine,if_exists=\"replace\",index=False)"
   ]
  }
 ],
 "metadata": {
  "kernelspec": {
   "display_name": "Python 3 (ipykernel)",
   "language": "python",
   "name": "python3"
  },
  "language_info": {
   "codemirror_mode": {
    "name": "ipython",
    "version": 3
   },
   "file_extension": ".py",
   "mimetype": "text/x-python",
   "name": "python",
   "nbconvert_exporter": "python",
   "pygments_lexer": "ipython3",
   "version": "3.9.13"
  }
 },
 "nbformat": 4,
 "nbformat_minor": 5
}
