{
 "cells": [
  {
   "cell_type": "code",
   "execution_count": 25,
   "id": "fbebbbb1",
   "metadata": {},
   "outputs": [],
   "source": [
    "from selenium.webdriver import Chrome\n",
    "from selenium.webdriver.common.by import By\n",
    "from selenium.webdriver import ChromeOptions\n",
    "import time\n",
    "from selenium.webdriver.common.keys import Keys\n",
    "from selenium.webdriver.chrome.service import Service"
   ]
  },
  {
   "cell_type": "code",
   "execution_count": 26,
   "id": "5372e6fa",
   "metadata": {},
   "outputs": [],
   "source": [
    "serv=Service(\"C:/Users/mohit.chaniyal/Documents/chromedriver.exe\") #provide driver location here"
   ]
  },
  {
   "cell_type": "code",
   "execution_count": 27,
   "id": "c12cdfc4",
   "metadata": {},
   "outputs": [],
   "source": [
    "# with open(\"myinstacred.txt\",\"r\") as f:\n",
    "#     uname,passwd=[x.replace(\"\\n\",\"\") for x in f.readlines()]\n",
    "uname=\"username\"  \n",
    "passwd=\"password\""
   ]
  },
  {
   "cell_type": "code",
   "execution_count": 28,
   "id": "e4acfc6c",
   "metadata": {},
   "outputs": [],
   "source": [
    "mobile_emulation = {\"deviceName\": \"iPhone X\"}\n",
    "chrome_options = ChromeOptions()\n",
    "chrome_options.add_experimental_option(\"mobileEmulation\", mobile_emulation)\n",
    "driver =Chrome(options=chrome_options,service=serv)\n",
    "driver.get(\"https://www.instagram.com/\")\n",
    "driver.set_window_size(375, 812)  # iPhone X resolution: 375x812\n",
    "#login\n",
    "time.sleep(2)\n",
    "driver.find_element(By.XPATH,\"//div[text()='Log in']\").click()\n",
    "time.sleep(2)\n",
    "driver.find_element(By.NAME,\"username\").send_keys(uname)\n",
    "driver.find_element(By.NAME,\"password\").send_keys(passwd)\n",
    "driver.find_element(By.XPATH,\"//div[text()='Log in']\").click()"
   ]
  },
  {
   "cell_type": "code",
   "execution_count": 34,
   "id": "f6cad9a4",
   "metadata": {},
   "outputs": [],
   "source": [
    "def get_follower_following(username:str,type_:str)->set:\n",
    "    driver.get(f\"https://www.instagram.com/{username}/{type_}/\")\n",
    "    time.sleep(3)\n",
    "    prev_height=driver.execute_script(\"return document.body.scrollHeight\")\n",
    "    f_set=set()\n",
    "    while True :\n",
    "        f_list=driver.find_elements(By.XPATH,\"//span[@class='_aacl _aaco _aacw _aacx _aad7 _aade']/div\")\n",
    "        for f in f_list :\n",
    "            if f.text not in f_set:\n",
    "                f_set.add(f.text)\n",
    "        driver.execute_script(\"window.scrollTo(0,document.body.scrollHeight);\")\n",
    "        time.sleep(3)\n",
    "        new_height=driver.execute_script(\"return document.body.scrollHeight\")\n",
    "        if new_height==prev_height:\n",
    "            break\n",
    "        prev_height=new_height\n",
    "    return f_set"
   ]
  },
  {
   "cell_type": "code",
   "execution_count": 35,
   "id": "1e12368a",
   "metadata": {
    "scrolled": true
   },
   "outputs": [],
   "source": [
    "#scraping all the instagram followers\n",
    "followings=get_follower_following(username=\"user_name\",type_=\"following\")\n",
    "followers=get_follower_following(username=\"user_name\",type_=\"followers\")\n"
   ]
  },
  {
   "cell_type": "code",
   "execution_count": 43,
   "id": "a6cd9543",
   "metadata": {},
   "outputs": [],
   "source": [
    "#saving data to csv files\n",
    "import pandas as pd\n",
    "pd.DataFrame(followings,columns=[\"Following\"])[\"Following\"].apply(lambda x : x.replace(\"\\nVerified\",\"\")).to_csv(\"following.csv\",index=False)\n",
    "pd.DataFrame(followers,columns=[\"Followers\"])[\"Followers\"].apply(lambda x : x.replace(\"\\nVerified\",\"\")).to_csv(\"followers.csv\",index=False)"
   ]
  },
  {
   "cell_type": "code",
   "execution_count": 44,
   "id": "3211a44b",
   "metadata": {
    "scrolled": false
   },
   "outputs": [],
   "source": [
    "df1=pd.read_csv(\"following.csv\") "
   ]
  },
  {
   "cell_type": "code",
   "execution_count": 45,
   "id": "2da73fcd",
   "metadata": {},
   "outputs": [],
   "source": [
    "df2=pd.read_csv(\"followers.csv\")"
   ]
  },
  {
   "cell_type": "code",
   "execution_count": 46,
   "id": "1e56f712",
   "metadata": {},
   "outputs": [],
   "source": [
    "person_i_follow_but_they_do_not_follow_me=df1[~df1.Following.isin(df2.Followers)]"
   ]
  },
  {
   "cell_type": "code",
   "execution_count": 239,
   "id": "fd407241",
   "metadata": {},
   "outputs": [],
   "source": [
    "pd.set_option('display.max_rows', 200)"
   ]
  },
  {
   "cell_type": "code",
   "execution_count": 53,
   "id": "556f2385",
   "metadata": {},
   "outputs": [],
   "source": [
    "#creating another instance becaouse facing issue with the display size while unfollowing\n",
    "browser =Chrome(service=serv)\n",
    "browser.get(\"https://www.instagram.com/\")\n",
    "#login\n",
    "\n",
    "time.sleep(2)\n",
    "browser.find_element(By.XPATH,\"//div[text()='Log in']\").click()\n",
    "browser.find_element(By.NAME,\"username\").send_keys(uname)\n",
    "browser.find_element(By.NAME,\"password\").send_keys(passwd)\n",
    "browser.find_element(By.XPATH,\"//div[text()='Log in']\").click()"
   ]
  },
  {
   "cell_type": "code",
   "execution_count": null,
   "id": "1ba1e0fa",
   "metadata": {},
   "outputs": [],
   "source": [
    "#unfollowing people who dont follow me and are not verified\n",
    "for person in person_i_follow_but_they_do_not_follow_me.Following[4:]:\n",
    "    browser.get(f\"https://www.instagram.com/{person}\")\n",
    "    time.sleep(2)\n",
    "    try:\n",
    "        browser.find_element(By.XPATH,\"//span[text()='Verified']\")\n",
    "        continue\n",
    "    except:\n",
    "        try :\n",
    "            browser.find_element(By.XPATH,\"//div[text()='Following']\").click()\n",
    "            time.sleep(2)\n",
    "            browser.find_element(By.XPATH,\"//span[text()='Unfollow']\").click()\n",
    "            time.sleep(2)\n",
    "        except:\n",
    "            print(pe)"
   ]
  }
 ],
 "metadata": {
  "kernelspec": {
   "display_name": "Python 3 (ipykernel)",
   "language": "python",
   "name": "python3"
  },
  "language_info": {
   "codemirror_mode": {
    "name": "ipython",
    "version": 3
   },
   "file_extension": ".py",
   "mimetype": "text/x-python",
   "name": "python",
   "nbconvert_exporter": "python",
   "pygments_lexer": "ipython3",
   "version": "3.9.13"
  }
 },
 "nbformat": 4,
 "nbformat_minor": 5
}
